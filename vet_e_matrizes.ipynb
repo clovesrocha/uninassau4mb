{
  "nbformat": 4,
  "nbformat_minor": 0,
  "metadata": {
    "colab": {
      "provenance": [],
      "authorship_tag": "ABX9TyPqS6X6wPUC3SrfC/ChoxfK",
      "include_colab_link": true
    },
    "kernelspec": {
      "name": "python3",
      "display_name": "Python 3"
    },
    "language_info": {
      "name": "python"
    }
  },
  "cells": [
    {
      "cell_type": "markdown",
      "metadata": {
        "id": "view-in-github",
        "colab_type": "text"
      },
      "source": [
        "<a href=\"https://colab.research.google.com/github/clovesrocha/uninassau4mb/blob/main/vet_e_matrizes.ipynb\" target=\"_parent\"><img src=\"https://colab.research.google.com/assets/colab-badge.svg\" alt=\"Open In Colab\"/></a>"
      ]
    },
    {
      "cell_type": "code",
      "execution_count": 1,
      "metadata": {
        "colab": {
          "base_uri": "https://localhost:8080/"
        },
        "id": "jDrFhJCLJ_Qd",
        "outputId": "3eb5560c-411a-4134-d91e-1cb4a4508801"
      },
      "outputs": [
        {
          "output_type": "stream",
          "name": "stdout",
          "text": [
            "[181, 100, 40]\n"
          ]
        }
      ],
      "source": [
        "# UNINASSAU\n",
        "# DOCENTE: Cloves Rocha\n",
        "# ESTUDANTES: ...\n",
        "# 11. Um pouco de Álgebra Linear\n",
        "\n",
        "# IMC\n",
        "imc = [181, #altura\n",
        "       100, #peso\n",
        "        40] #idade\n",
        "print(imc)"
      ]
    },
    {
      "cell_type": "code",
      "source": [
        "notas = [10, #nota1\n",
        "          9, #nota2\n",
        "          8, #nota3\n",
        "          7] #nota4\n",
        "print(notas)"
      ],
      "metadata": {
        "colab": {
          "base_uri": "https://localhost:8080/"
        },
        "id": "TplDgvcuLnUu",
        "outputId": "211b1951-79d1-4664-af32-248a497a3117"
      },
      "execution_count": null,
      "outputs": [
        {
          "output_type": "stream",
          "name": "stdout",
          "text": [
            "[10, 9, 8, 7]\n"
          ]
        }
      ]
    },
    {
      "cell_type": "code",
      "source": [
        "def vet_add(vet1, vet2):\n",
        "  #soma elementos correspondentes\n",
        "return [vet1_i + vet2_i\n",
        "        for vet1_i, vet2_i in zip(vet1, vet2)]"
      ],
      "metadata": {
        "id": "sQuqHLVGMFbC"
      },
      "execution_count": null,
      "outputs": []
    },
    {
      "cell_type": "code",
      "source": [
        "def vet_sub(vet1, vet2):\n",
        "  #subtrai elementos correspondentes\n",
        "return [vet1_i - vet2_i\n",
        "        for vet1_i, vet2_i in zip(vet1, vet2)]\n"
      ],
      "metadata": {
        "id": "KiKF_1WkNjVo"
      },
      "execution_count": null,
      "outputs": []
    },
    {
      "cell_type": "code",
      "source": [
        "def vet_sum(vets):\n",
        "  return reduz(vet_add, vets, vetX, vetD)\n",
        "vet_sum = part(reduz, vet_sum)"
      ],
      "metadata": {
        "id": "FuHRCUvXOQoE"
      },
      "execution_count": null,
      "outputs": []
    },
    {
      "cell_type": "code",
      "source": [
        "def scalar_mult(n, v):\n",
        "  # n é um número, v é um vetor\n",
        "return [n * v_i for v_i in v]"
      ],
      "metadata": {
        "id": "aM7rXlQ7OvIo"
      },
      "execution_count": null,
      "outputs": []
    },
    {
      "cell_type": "code",
      "source": [
        "# Matrizes\n",
        "import numpy as np #numpy é uma biblioteca importante\n",
        "\n",
        "matriz = np.array([[1,2,3],[4,5,6], [7,8,9]])\n",
        "print(matriz)"
      ],
      "metadata": {
        "colab": {
          "base_uri": "https://localhost:8080/"
        },
        "id": "FLVv5G4DPJS2",
        "outputId": "364f12be-6197-40c9-cb27-e34fe80d4830"
      },
      "execution_count": 3,
      "outputs": [
        {
          "output_type": "stream",
          "name": "stdout",
          "text": [
            "[[1 2 3]\n",
            " [4 5 6]\n",
            " [7 8 9]]\n"
          ]
        }
      ]
    },
    {
      "cell_type": "code",
      "source": [
        "elemento = matriz[0,1]\n",
        "#Obtém o elemento na linha 0 e coluna 1(valor2)\n",
        "#Obtendo o número de linhas e colunas\n",
        "num_linhas = matriz.shape[0] #Retorna o num de linhas(3)\n",
        "num_colunas = matriz.shape[1] #Retorna o num de colunas(3)\n",
        "\n",
        "#Iterando sobre elementos da matriz\n",
        "for linha in matriz:\n",
        " for elemento in linha:\n",
        "  print(elemento)"
      ],
      "metadata": {
        "id": "XhWQxlxZRMCw"
      },
      "execution_count": null,
      "outputs": []
    },
    {
      "cell_type": "code",
      "source": [
        "# Operações matriciais\n",
        "matriz1 = np.array([[1, 2], [3, 4]])\n",
        "matriz2 = np.array([[5, 6], [7, 8]])\n",
        "\n",
        "soma = matriz1 + matriz2\n",
        "produto = np.dot(matriz1, matriz2) #Produto de matrizes\n",
        "print(produto)"
      ],
      "metadata": {
        "colab": {
          "base_uri": "https://localhost:8080/"
        },
        "id": "VBwoK05gULBH",
        "outputId": "351cc2a3-892e-4c11-c098-711499c7f666"
      },
      "execution_count": 7,
      "outputs": [
        {
          "output_type": "stream",
          "name": "stdout",
          "text": [
            "[[19 22]\n",
            " [43 50]]\n"
          ]
        }
      ]
    },
    {
      "cell_type": "code",
      "source": [
        "#matriz_transposta = matriz.exemplo\n",
        "a = 1\n",
        "b = 2\n",
        "a = b\n",
        "print(a)"
      ],
      "metadata": {
        "colab": {
          "base_uri": "https://localhost:8080/"
        },
        "id": "7pJiw32CYvhe",
        "outputId": "6a3823cd-77ab-4201-f54f-c08b19e1ded3"
      },
      "execution_count": 10,
      "outputs": [
        {
          "output_type": "stream",
          "name": "stdout",
          "text": [
            "2\n"
          ]
        }
      ]
    },
    {
      "cell_type": "code",
      "source": [
        "# Indexação booleana\n",
        "matriz = np.array([[1,2,3], [4,5,6], [7,8,9]])\n",
        "condicao = matriz > 5\n",
        "#Cria uma matriz de booleanos baseada na condição\n",
        "elementos_maiores_que_5 = matriz [condicao]\n",
        "#Obtém elementos maiores que 5.\n",
        "#Outras operações úteis incluem: média, mínimo, máximo, etc.\n",
        "media = np.mean(matriz)\n",
        "valor_minimo = np.min(matriz)\n",
        "valor_maximo = np.max(matriz)\n",
        "print(valor_minimo)"
      ],
      "metadata": {
        "colab": {
          "base_uri": "https://localhost:8080/"
        },
        "id": "iEWxb2HkZU15",
        "outputId": "17768e4b-89c4-4918-eb3f-a75213c4b495"
      },
      "execution_count": 14,
      "outputs": [
        {
          "output_type": "stream",
          "name": "stdout",
          "text": [
            "1\n"
          ]
        }
      ]
    }
  ]
}