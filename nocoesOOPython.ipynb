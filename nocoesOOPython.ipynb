{
  "nbformat": 4,
  "nbformat_minor": 0,
  "metadata": {
    "colab": {
      "provenance": [],
      "authorship_tag": "ABX9TyNXO7Qf1Z/sAqT51vNiJuha",
      "include_colab_link": true
    },
    "kernelspec": {
      "name": "python3",
      "display_name": "Python 3"
    },
    "language_info": {
      "name": "python"
    }
  },
  "cells": [
    {
      "cell_type": "markdown",
      "metadata": {
        "id": "view-in-github",
        "colab_type": "text"
      },
      "source": [
        "<a href=\"https://colab.research.google.com/github/clovesrocha/uninassau4mb/blob/main/nocoesOOPython.ipynb\" target=\"_parent\"><img src=\"https://colab.research.google.com/assets/colab-badge.svg\" alt=\"Open In Colab\"/></a>"
      ]
    },
    {
      "cell_type": "code",
      "execution_count": null,
      "metadata": {
        "id": "J8yHfnbsjAtU"
      },
      "outputs": [],
      "source": [
        "# UNINASSAU\n",
        "# DOCENTE: Cloves Rocha\n",
        "# ESTUDANTES: ...\n",
        "# Noções OO Python\n",
        "# Exemplo 1 - Corrigido...\n",
        "class Automovel:\n",
        "    def __init__(self, placa='xx-123'):\n",
        "        self.placa = placa\n",
        "\n",
        "    def get_placa(self):\n",
        "        return self.placa\n",
        "\n",
        "    def dirigir(self, velocidade):\n",
        "        print(f'Estou dirigindo a {velocidade} km/h')\n",
        "\n",
        "# Exemplo de uso da classe Automovel\n",
        "carro = Automovel()\n",
        "print(carro.get_placa())\n",
        "carro.dirigir(60)\n"
      ]
    },
    {
      "cell_type": "code",
      "source": [
        "# Exemplo 2\n",
        "class Carro:\n",
        "  def __init__(self):\n",
        "    self.nrodas = 4\n",
        "  def set_nrodas(self, n):\n",
        "    self.nrodas = n\n",
        "bmw = Carro()\n",
        "bmw.nrodas\n",
        "\n",
        "bmw.set_nrodas(2)\n",
        "bmw.nrodas"
      ],
      "metadata": {
        "colab": {
          "base_uri": "https://localhost:8080/"
        },
        "id": "ehlk2goEk1Cw",
        "outputId": "e6fab0a1-65b8-4155-f294-d5c26dd2d564"
      },
      "execution_count": null,
      "outputs": [
        {
          "output_type": "execute_result",
          "data": {
            "text/plain": [
              "2"
            ]
          },
          "metadata": {},
          "execution_count": 2
        }
      ]
    }
  ]
}